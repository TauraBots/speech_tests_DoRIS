{
 "cells": [
  {
   "cell_type": "code",
   "execution_count": 6,
   "metadata": {},
   "outputs": [],
   "source": [
    "# from pocketsphinx import LiveSpeech, Pocketsphinx, Decoder\n",
    "from pocketsphinx import LiveSpeech, AudioFile\n",
    "import pickle"
   ]
  },
  {
   "cell_type": "markdown",
   "metadata": {},
   "source": [
    "Listen de speech's e armazenamento numa lista 1"
   ]
  },
  {
   "cell_type": "code",
   "execution_count": 7,
   "metadata": {},
   "outputs": [
    {
     "name": "stderr",
     "output_type": "stream",
     "text": [
      "/home/tiarles/.local/lib/python3.6/site-packages/ipykernel_launcher.py:4: DeprecationWarning: generator 'LiveSpeech.__iter__' raised StopIteration\n",
      "  after removing the cwd from sys.path.\n"
     ]
    }
   ],
   "source": [
    "lista = []\n",
    "c = 0\n",
    "\n",
    "for frase in LiveSpeech():\n",
    "    lista.append(frase)\n",
    "    print(frase)\n",
    "    \n",
    "    c += 1\n",
    "    \n",
    "    if c == 5:\n",
    "        with open('my_file.speech', 'wb') as speech_file:\n",
    "            pickle.dump?\n",
    "        \n",
    "        break\n",
    "    "
   ]
  },
  {
   "cell_type": "markdown",
   "metadata": {},
   "source": [
    "Tentativa - FAIL - de salvar num pickle e comparação de speech's - SUCESS"
   ]
  },
  {
   "cell_type": "code",
   "execution_count": null,
   "metadata": {},
   "outputs": [],
   "source": [
    "with open('files_project_furg\\my_first.pickle', 'wb') as pick:\n",
    "    pickle.dump(lista, pick)"
   ]
  },
  {
   "cell_type": "code",
   "execution_count": null,
   "metadata": {},
   "outputs": [],
   "source": [
    "pickle.dump?"
   ]
  },
  {
   "cell_type": "code",
   "execution_count": null,
   "metadata": {},
   "outputs": [],
   "source": [
    "lista[4] == lista[0]"
   ]
  },
  {
   "cell_type": "markdown",
   "metadata": {},
   "source": [
    "Listen de speech's e armazenamento numa lista 2"
   ]
  },
  {
   "cell_type": "code",
   "execution_count": 12,
   "metadata": {},
   "outputs": [
    {
     "name": "stdout",
     "output_type": "stream",
     "text": [
      "i'd\n"
     ]
    }
   ],
   "source": [
    "c = 0\n",
    "\n",
    "for frase in LiveSpeech(verbose=True, logfn='pocketsphinx.log'):\n",
    "    f = frase\n",
    "    print(frase)\n",
    "    \n",
    "    c += 1\n",
    "    \n",
    "    if c == 1:\n",
    "        break"
   ]
  },
  {
   "cell_type": "markdown",
   "metadata": {},
   "source": [
    "Tentativa de salvar via arquivo - FAIL"
   ]
  },
  {
   "cell_type": "code",
   "execution_count": null,
   "metadata": {},
   "outputs": [],
   "source": [
    "file = open('my_speech.speech', 'wb')\n",
    "file.write(f)"
   ]
  },
  {
   "cell_type": "markdown",
   "metadata": {},
   "source": [
    "Correlação entre as amostras - SUCESS"
   ]
  },
  {
   "cell_type": "code",
   "execution_count": null,
   "metadata": {},
   "outputs": [],
   "source": [
    "for i, l1 in enumerate(lista):\n",
    "    for j, l2 in enumerate(lista):\n",
    "        print(\"%d | %d = %d\" % (i, j, l1 == l2))\n",
    "        \n",
    "print('\\n\\n')\n",
    "for i, l1 in enumerate(lista):\n",
    "    print(\"%d = %d\" % (i, l1 == f))"
   ]
  },
  {
   "cell_type": "markdown",
   "metadata": {},
   "source": [
    "Tentativa de armazenamento num .json file - FAIL"
   ]
  },
  {
   "cell_type": "code",
   "execution_count": null,
   "metadata": {},
   "outputs": [],
   "source": [
    "file = open('my_speech.speech', 'w')\n",
    "json.dump(lista, file)"
   ]
  },
  {
   "cell_type": "markdown",
   "metadata": {},
   "source": [
    "Tentativa de uso da classe Segment - FAIL"
   ]
  },
  {
   "cell_type": "code",
   "execution_count": null,
   "metadata": {},
   "outputs": [],
   "source": [
    "import pocketsphinx"
   ]
  },
  {
   "cell_type": "code",
   "execution_count": null,
   "metadata": {},
   "outputs": [],
   "source": [
    "pocketsphinx.Segment??"
   ]
  },
  {
   "cell_type": "markdown",
   "metadata": {},
   "source": [
    "Tentativa de uso de nova classe"
   ]
  },
  {
   "cell_type": "code",
   "execution_count": null,
   "metadata": {},
   "outputs": [],
   "source": [
    "from pocketsphinx import AudioFile"
   ]
  },
  {
   "cell_type": "code",
   "execution_count": 8,
   "metadata": {},
   "outputs": [
    {
     "name": "stdout",
     "output_type": "stream",
     "text": [
      "go forward ten meters\n"
     ]
    }
   ],
   "source": [
    "for frase in AudioFile():\n",
    "    print(frase)"
   ]
  },
  {
   "cell_type": "code",
   "execution_count": 13,
   "metadata": {},
   "outputs": [
    {
     "data": {
      "text/plain": [
       "<pocketsphinx.LiveSpeech; proxy of <Swig Object of type 'Decoder *' at 0x7f4568437d80> >"
      ]
     },
     "execution_count": 13,
     "metadata": {},
     "output_type": "execute_result"
    }
   ],
   "source": [
    "f.decode()"
   ]
  },
  {
   "cell_type": "markdown",
   "metadata": {},
   "source": [
    "Tentativas de armazenamento num pickle - FAIL"
   ]
  },
  {
   "cell_type": "code",
   "execution_count": null,
   "metadata": {},
   "outputs": [],
   "source": [
    "with open('speech.pickle', 'wb') as file:\n",
    "    pickle.dump(f.buf, file)"
   ]
  },
  {
   "cell_type": "code",
   "execution_count": null,
   "metadata": {},
   "outputs": [],
   "source": [
    "with open('speech.pickle', 'rb') as file:\n",
    "    tmp_buf = pickle.load(file)"
   ]
  },
  {
   "cell_type": "code",
   "execution_count": null,
   "metadata": {},
   "outputs": [],
   "source": [
    "new_speech = LiveSpeech()"
   ]
  },
  {
   "cell_type": "code",
   "execution_count": null,
   "metadata": {},
   "outputs": [],
   "source": [
    "new_speech.get_fe??"
   ]
  },
  {
   "cell_type": "code",
   "execution_count": null,
   "metadata": {},
   "outputs": [],
   "source": [
    "pocketsphinx.Ad.__init__??"
   ]
  }
 ],
 "metadata": {
  "kernelspec": {
   "display_name": "Python 3",
   "language": "python",
   "name": "python3"
  },
  "language_info": {
   "codemirror_mode": {
    "name": "ipython",
    "version": 3
   },
   "file_extension": ".py",
   "mimetype": "text/x-python",
   "name": "python",
   "nbconvert_exporter": "python",
   "pygments_lexer": "ipython3",
   "version": "3.6.8"
  }
 },
 "nbformat": 4,
 "nbformat_minor": 2
}
