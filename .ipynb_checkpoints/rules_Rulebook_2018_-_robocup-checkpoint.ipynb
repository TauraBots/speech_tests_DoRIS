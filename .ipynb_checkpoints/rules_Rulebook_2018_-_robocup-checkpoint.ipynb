{
 "cells": [
  {
   "cell_type": "markdown",
   "metadata": {},
   "source": [
    "# Appendix A\n",
    "\n",
    "## Speech and Person Recognition in detail\n",
    "### A.1. Questions for Speech and Person Recognition\n",
    "\n",
    "The questions the robot must answer in the RoboGame test are taken from a small set of predefined\n",
    "trivia questions including information about the arena, the crowd, the list of predefined objects, and the\n",
    "robot’s environment.\n",
    "A generator is publicly available at https://github.com/kyordhel/GPSRCmdGen. The official SPR\n",
    "Command Generator and the official grammars will be made available two months before the competition.\n",
    "However, teams must be aware that the categories, objects and other data is provided for testing purposes\n",
    "only and will adapt to the environment during the setup days.\n",
    "\n",
    "#### A.1.1. Question distribution\n",
    "The questions to be asked in both, the riddle game and the blind man’s bluff game tasks, are distributed\n",
    "in the following proportion:\n",
    "* One is a predefined question\n",
    "* Between one and two are about the arena and its status\n",
    "* Between one and two are about the crowd\n",
    "* Between one and two are about the list of official objects\n",
    "\n",
    "However, it is important to remark that questions won’t be asked in any specific order. This is\n",
    "since the robot must be able to answer any type of question at any given time. For instance, the robot\n",
    "may be asked first about the arena, then about object, later on a predefined question, and finally about\n",
    "the crowd.\n",
    "\n",
    "#### A.1.2. Arena Questions\n",
    "The arena-questions are a set of queries about the features of the RoboCup@Home Arena itself, including\n",
    "its furniture and configuration (e.g. rooms and locations). The arena is considered to be in its normal\n",
    "state and the robot must answer accordingly, without needing to move and verify the state.\n",
    "Some example arena-questions are:\n",
    "1. Where is the shelf? → The shelf is in the kitchen\n",
    "2. Where is the plant? → The plant is in the living room\n",
    "3. How many chairs are in the dining room? → There are six chairs in the dining room\n",
    "\n",
    "#### A.1.3. Crowd & Operator Questions\n",
    "The crowd-questions are a set of queries about the features of the crowd the robot observed at the very\n",
    "beginning of the test.\n",
    "Some example crowd-questions are:\n",
    "1. Size of the crowd\n",
    "2. Number of children\n",
    "3. Number of male or female people\n",
    "4. Number of people waiving or rising arms\n",
    "5. Number of people standing, sitting or lying\n",
    "6. How old do you think I am? → I think you are 23 years old.\n",
    "7. The sitting person was a man or woman? → The sitting person was a man.\n",
    "8. Am I a man or a woman? → I couldn’t tell.\n",
    "\n",
    "#### A.1.4. Object Questions\n",
    "The object-questions are built on basis of the features of the predefined objects used during the compe-\n",
    "tition and their categories. Such features include color, shape, size, type, weight, category, predefined\n",
    "location, etc. The arena is considered to be in its normal state and the robot must answer accordingly,\n",
    "without needing to move and verify the state.\n",
    "Some example object-questions are:\n",
    "1. What’s the smallest food? → The egg is the smallest in the food category.\n",
    "2. What’s the lightest drink? → The Coke Zero, is lighter than water.\n",
    "3. Where can I find the tray? → The tray is in the shelf.\n",
    "4. Where can I find the beer? → I put it into the fridge for you, master.\n",
    "5. What’s the color of the shampoo? → The shampoo is blue.\n",
    "6.  What’s the color of the sponge? → The sponge is yellow and has square pants.\n",
    "7. What objects are in the closet? → The shampoo, soap, the sponge and a cloth.\n",
    "8. How many objects are in the shelf? → There are five objects in the shelf.\n",
    "9. Do the objects in the cupboard belong to the same category? → Yes. They are all food.\n",
    "\n",
    "Please note that some questions may refer to a previous question or answer.\n",
    "Predefined Questions\n",
    "In addition to the other questions, 10 predefined trivia-questions will be announced during the setup\n",
    "days.\n",
    "Some example predefined-questions are:\n",
    "1. What day is today?\n",
    "2. What is your name?\n",
    "3. What is your team’s name?\n",
    "4. What time is it?\n",
    "5. In which year was RoboCup@Home founded?\n",
    "6. What was the last question?\n",
    "7. Please note that some questions may refer to a previous question or answer"
   ]
  },
  {
   "cell_type": "code",
   "execution_count": null,
   "metadata": {},
   "outputs": [],
   "source": []
  },
  {
   "cell_type": "markdown",
   "metadata": {},
   "source": [
    "See more in **Scenario** and **Robot** in Robocup Rules 2018."
   ]
  },
  {
   "cell_type": "code",
   "execution_count": null,
   "metadata": {},
   "outputs": [],
   "source": []
  }
 ],
 "metadata": {
  "kernelspec": {
   "display_name": "Python 3",
   "language": "python",
   "name": "python3"
  },
  "language_info": {
   "codemirror_mode": {
    "name": "ipython",
    "version": 3
   },
   "file_extension": ".py",
   "mimetype": "text/x-python",
   "name": "python",
   "nbconvert_exporter": "python",
   "pygments_lexer": "ipython3",
   "version": "3.6.8"
  }
 },
 "nbformat": 4,
 "nbformat_minor": 2
}
