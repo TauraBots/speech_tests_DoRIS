{
 "cells": [
  {
   "cell_type": "markdown",
   "metadata": {},
   "source": [
    "# Descrição deste notebook\n",
    "\n",
    "Realizar leituras de voz de uma série de frases para serem gravadas e comparadas num reconhecimento de voz utilizando a sphinx para reconhecimento.\n",
    "\n",
    "## Método\n",
    "\n",
    "Gravar várias amostras da mesma frase e armazená-las.\n",
    "\n",
    "Quando o sistema escutar uma frase ela a pesquisa num banco de áudios que levam para a mesma string. \n",
    "\n",
    "O pocketsphinx possui problemas para a descrição textual, mas percebe-se que os sinais são bastante parecidos. Condição suficiente para testes iniciais.\n",
    "\n",
    "## Frases a serem gravadas\n",
    "1. Go to the kitchen\n",
    "2. Go to the livin room\n",
    "3. Go to the bathroom\n",
    "4. Go to the bedroom\n",
    "\n",
    "## Condições ambientais a serem testadas (Necessário para navegar nos arquivos)\n",
    "1. Em silencio (UFSM de noite)\n",
    "2. Com ruído branco (UFSM de noite e um aparelho celular)\n",
    "3. Com ruído \"humano\" (Laboratório do Taura)"
   ]
  },
  {
   "cell_type": "code",
   "execution_count": 12,
   "metadata": {},
   "outputs": [],
   "source": [
    "import speech_recognition as sr\n",
    "from time import sleep\n",
    "import pickle\n",
    "import os\n",
    "\n",
    "# os.mkdir('test_audio/')\n",
    "# os.mkdir('test_audio/ambiente_1/')\n",
    "# os.mkdir('test_audio/ambiente_2/')\n",
    "# os.mkdir('test_audio/ambiente_3/')\n"
   ]
  },
  {
   "cell_type": "markdown",
   "metadata": {},
   "source": [
    "Atribuição de um reconhecedor e um microfone"
   ]
  },
  {
   "cell_type": "code",
   "execution_count": 25,
   "metadata": {},
   "outputs": [],
   "source": [
    "mic = sr.Microphone()\n",
    "rec = sr.Recognizer()\n",
    "\n",
    "root_folder = './test_audios/'\n",
    "\n",
    "frases = [\n",
    "          \n",
    "          'go to the kitchen',\n",
    "          'go to the bathroom',\n",
    "          'go to the bedroom',\n",
    "          'go to the living room',\n",
    "         \n",
    "          'get the chips',\n",
    "          'get the cereal box',\n",
    "          'get the bottle of water',\n",
    "          \n",
    "          'did you say kitchen?',\n",
    "          'did you say bedroom?',\n",
    "          'did you say bathroom?',\n",
    "          'did you say room?',\n",
    "         \n",
    "          'ok, I am going!',\n",
    "          'hey doris',\n",
    "          'hi human']\n",
    "\n",
    "ambientes = ['ambiente_1/', 'ambiente_2/', 'ambiente_3/']"
   ]
  },
  {
   "cell_type": "markdown",
   "metadata": {},
   "source": [
    "Descrição da subrotina que fará a leitura dos audios"
   ]
  },
  {
   "cell_type": "code",
   "execution_count": 18,
   "metadata": {},
   "outputs": [],
   "source": [
    "def listen_audio(frase, mic, rec, times, ambiente, filesave=False):\n",
    "    '''return and save the audios'''\n",
    "    print('Fale %s:' % frase)\n",
    "    lista = []\n",
    "    for i in range(times):\n",
    "        print('Versão de %s numero %d.' % (frase, i+1))\n",
    "        with mic as source:\n",
    "            audio = rec.listen(source)\n",
    "            print('listen OK')\n",
    "            print('Via google API (online): %s' % rec.recognize_google(audio))\n",
    "            print('Via sphinx (offline):    %s' % rec.recognize_sphinx(audio))\n",
    "        lista.append(audio)\n",
    "    filename = root_folder + ambiente + frase.replace(' ', '_') + '.pickle'\n",
    "    if filesave:\n",
    "        file = open(filename, 'wb')\n",
    "        pickle.dump(lista, file)\n",
    "        file.close()\n",
    "    \n",
    "    return lista"
   ]
  },
  {
   "cell_type": "markdown",
   "metadata": {},
   "source": [
    "Inicialização com um possível inibidor de som ambiental **&** Leitura das informações sonoras"
   ]
  },
  {
   "cell_type": "code",
   "execution_count": 15,
   "metadata": {},
   "outputs": [],
   "source": [
    "with mic as source:\n",
    "    rec.adjust_for_ambient_noise(source)"
   ]
  },
  {
   "cell_type": "code",
   "execution_count": 24,
   "metadata": {},
   "outputs": [
    {
     "name": "stdout",
     "output_type": "stream",
     "text": [
      "Fale go to the living room:\n",
      "Versão de go to the living room numero 1.\n",
      "listen OK\n",
      "Via google API (online): go to the living room\n",
      "Via sphinx (offline):    go to the living room\n",
      "Versão de go to the living room numero 2.\n",
      "listen OK\n",
      "Via google API (online): go to the living room\n",
      "Via sphinx (offline):    gold and know\n",
      "Versão de go to the living room numero 3.\n",
      "listen OK\n",
      "Via google API (online): go to the living room\n",
      "Via sphinx (offline):    gold in the general\n",
      "Versão de go to the living room numero 4.\n",
      "listen OK\n",
      "Via google API (online): go to the living room\n",
      "Via sphinx (offline):    gold is the general\n",
      "Versão de go to the living room numero 5.\n",
      "listen OK\n",
      "Via google API (online): go to the living room\n",
      "Via sphinx (offline):    go to the living room\n",
      "Versão de go to the living room numero 6.\n",
      "listen OK\n",
      "Via google API (online): go to the living room\n",
      "Via sphinx (offline):    hold it for\n",
      "Versão de go to the living room numero 7.\n",
      "listen OK\n",
      "Via google API (online): the living room\n",
      "Via sphinx (offline):    at him wrong\n",
      "Versão de go to the living room numero 8.\n",
      "listen OK\n",
      "Via google API (online): go to the living room\n",
      "Via sphinx (offline):    bolted to the jury\n",
      "Versão de go to the living room numero 9.\n"
     ]
    },
    {
     "ename": "KeyboardInterrupt",
     "evalue": "",
     "output_type": "error",
     "traceback": [
      "\u001b[0;31m---------------------------------------------------------------------------\u001b[0m",
      "\u001b[0;31mKeyboardInterrupt\u001b[0m                         Traceback (most recent call last)",
      "\u001b[0;32m<ipython-input-24-f512c368b730>\u001b[0m in \u001b[0;36m<module>\u001b[0;34m()\u001b[0m\n\u001b[1;32m      6\u001b[0m \u001b[0mfrase\u001b[0m \u001b[0;34m=\u001b[0m \u001b[0mfrases\u001b[0m\u001b[0;34m[\u001b[0m\u001b[0;36m3\u001b[0m\u001b[0;34m]\u001b[0m\u001b[0;34m\u001b[0m\u001b[0m\n\u001b[1;32m      7\u001b[0m \u001b[0;34m\u001b[0m\u001b[0m\n\u001b[0;32m----> 8\u001b[0;31m \u001b[0mlisten_audio\u001b[0m\u001b[0;34m(\u001b[0m\u001b[0mfrase\u001b[0m\u001b[0;34m,\u001b[0m \u001b[0mmic\u001b[0m\u001b[0;34m,\u001b[0m \u001b[0mrec\u001b[0m\u001b[0;34m,\u001b[0m \u001b[0;36m10\u001b[0m\u001b[0;34m,\u001b[0m \u001b[0mambientes\u001b[0m\u001b[0;34m[\u001b[0m\u001b[0;36m0\u001b[0m\u001b[0;34m]\u001b[0m\u001b[0;34m,\u001b[0m \u001b[0mfilesave\u001b[0m\u001b[0;34m=\u001b[0m\u001b[0;32mFalse\u001b[0m\u001b[0;34m)\u001b[0m\u001b[0;34m\u001b[0m\u001b[0m\n\u001b[0m",
      "\u001b[0;32m<ipython-input-18-f24ea3f2894c>\u001b[0m in \u001b[0;36mlisten_audio\u001b[0;34m(frase, mic, rec, times, ambiente, filesave)\u001b[0m\n\u001b[1;32m      6\u001b[0m         \u001b[0mprint\u001b[0m\u001b[0;34m(\u001b[0m\u001b[0;34m'Versão de %s numero %d.'\u001b[0m \u001b[0;34m%\u001b[0m \u001b[0;34m(\u001b[0m\u001b[0mfrase\u001b[0m\u001b[0;34m,\u001b[0m \u001b[0mi\u001b[0m\u001b[0;34m+\u001b[0m\u001b[0;36m1\u001b[0m\u001b[0;34m)\u001b[0m\u001b[0;34m)\u001b[0m\u001b[0;34m\u001b[0m\u001b[0m\n\u001b[1;32m      7\u001b[0m         \u001b[0;32mwith\u001b[0m \u001b[0mmic\u001b[0m \u001b[0;32mas\u001b[0m \u001b[0msource\u001b[0m\u001b[0;34m:\u001b[0m\u001b[0;34m\u001b[0m\u001b[0m\n\u001b[0;32m----> 8\u001b[0;31m             \u001b[0maudio\u001b[0m \u001b[0;34m=\u001b[0m \u001b[0mrec\u001b[0m\u001b[0;34m.\u001b[0m\u001b[0mlisten\u001b[0m\u001b[0;34m(\u001b[0m\u001b[0msource\u001b[0m\u001b[0;34m)\u001b[0m\u001b[0;34m\u001b[0m\u001b[0m\n\u001b[0m\u001b[1;32m      9\u001b[0m             \u001b[0mprint\u001b[0m\u001b[0;34m(\u001b[0m\u001b[0;34m'listen OK'\u001b[0m\u001b[0;34m)\u001b[0m\u001b[0;34m\u001b[0m\u001b[0m\n\u001b[1;32m     10\u001b[0m             \u001b[0mprint\u001b[0m\u001b[0;34m(\u001b[0m\u001b[0;34m'Via google API (online): %s'\u001b[0m \u001b[0;34m%\u001b[0m \u001b[0mrec\u001b[0m\u001b[0;34m.\u001b[0m\u001b[0mrecognize_google\u001b[0m\u001b[0;34m(\u001b[0m\u001b[0maudio\u001b[0m\u001b[0;34m)\u001b[0m\u001b[0;34m)\u001b[0m\u001b[0;34m\u001b[0m\u001b[0m\n",
      "\u001b[0;32m/usr/local/lib/python3.6/dist-packages/speech_recognition/__init__.py\u001b[0m in \u001b[0;36mlisten\u001b[0;34m(self, source, timeout, phrase_time_limit, snowboy_configuration)\u001b[0m\n\u001b[1;32m    650\u001b[0m                     \u001b[0;32mbreak\u001b[0m\u001b[0;34m\u001b[0m\u001b[0m\n\u001b[1;32m    651\u001b[0m \u001b[0;34m\u001b[0m\u001b[0m\n\u001b[0;32m--> 652\u001b[0;31m                 \u001b[0mbuffer\u001b[0m \u001b[0;34m=\u001b[0m \u001b[0msource\u001b[0m\u001b[0;34m.\u001b[0m\u001b[0mstream\u001b[0m\u001b[0;34m.\u001b[0m\u001b[0mread\u001b[0m\u001b[0;34m(\u001b[0m\u001b[0msource\u001b[0m\u001b[0;34m.\u001b[0m\u001b[0mCHUNK\u001b[0m\u001b[0;34m)\u001b[0m\u001b[0;34m\u001b[0m\u001b[0m\n\u001b[0m\u001b[1;32m    653\u001b[0m                 \u001b[0;32mif\u001b[0m \u001b[0mlen\u001b[0m\u001b[0;34m(\u001b[0m\u001b[0mbuffer\u001b[0m\u001b[0;34m)\u001b[0m \u001b[0;34m==\u001b[0m \u001b[0;36m0\u001b[0m\u001b[0;34m:\u001b[0m \u001b[0;32mbreak\u001b[0m  \u001b[0;31m# reached end of the stream\u001b[0m\u001b[0;34m\u001b[0m\u001b[0m\n\u001b[1;32m    654\u001b[0m                 \u001b[0mframes\u001b[0m\u001b[0;34m.\u001b[0m\u001b[0mappend\u001b[0m\u001b[0;34m(\u001b[0m\u001b[0mbuffer\u001b[0m\u001b[0;34m)\u001b[0m\u001b[0;34m\u001b[0m\u001b[0m\n",
      "\u001b[0;32m/usr/local/lib/python3.6/dist-packages/speech_recognition/__init__.py\u001b[0m in \u001b[0;36mread\u001b[0;34m(self, size)\u001b[0m\n\u001b[1;32m    159\u001b[0m \u001b[0;34m\u001b[0m\u001b[0m\n\u001b[1;32m    160\u001b[0m         \u001b[0;32mdef\u001b[0m \u001b[0mread\u001b[0m\u001b[0;34m(\u001b[0m\u001b[0mself\u001b[0m\u001b[0;34m,\u001b[0m \u001b[0msize\u001b[0m\u001b[0;34m)\u001b[0m\u001b[0;34m:\u001b[0m\u001b[0;34m\u001b[0m\u001b[0m\n\u001b[0;32m--> 161\u001b[0;31m             \u001b[0;32mreturn\u001b[0m \u001b[0mself\u001b[0m\u001b[0;34m.\u001b[0m\u001b[0mpyaudio_stream\u001b[0m\u001b[0;34m.\u001b[0m\u001b[0mread\u001b[0m\u001b[0;34m(\u001b[0m\u001b[0msize\u001b[0m\u001b[0;34m,\u001b[0m \u001b[0mexception_on_overflow\u001b[0m\u001b[0;34m=\u001b[0m\u001b[0;32mFalse\u001b[0m\u001b[0;34m)\u001b[0m\u001b[0;34m\u001b[0m\u001b[0m\n\u001b[0m\u001b[1;32m    162\u001b[0m \u001b[0;34m\u001b[0m\u001b[0m\n\u001b[1;32m    163\u001b[0m         \u001b[0;32mdef\u001b[0m \u001b[0mclose\u001b[0m\u001b[0;34m(\u001b[0m\u001b[0mself\u001b[0m\u001b[0;34m)\u001b[0m\u001b[0;34m:\u001b[0m\u001b[0;34m\u001b[0m\u001b[0m\n",
      "\u001b[0;32m~/.local/lib/python3.6/site-packages/pyaudio.py\u001b[0m in \u001b[0;36mread\u001b[0;34m(self, num_frames, exception_on_overflow)\u001b[0m\n\u001b[1;32m    606\u001b[0m                           paCanNotReadFromAnOutputOnlyStream)\n\u001b[1;32m    607\u001b[0m \u001b[0;34m\u001b[0m\u001b[0m\n\u001b[0;32m--> 608\u001b[0;31m         \u001b[0;32mreturn\u001b[0m \u001b[0mpa\u001b[0m\u001b[0;34m.\u001b[0m\u001b[0mread_stream\u001b[0m\u001b[0;34m(\u001b[0m\u001b[0mself\u001b[0m\u001b[0;34m.\u001b[0m\u001b[0m_stream\u001b[0m\u001b[0;34m,\u001b[0m \u001b[0mnum_frames\u001b[0m\u001b[0;34m,\u001b[0m \u001b[0mexception_on_overflow\u001b[0m\u001b[0;34m)\u001b[0m\u001b[0;34m\u001b[0m\u001b[0m\n\u001b[0m\u001b[1;32m    609\u001b[0m \u001b[0;34m\u001b[0m\u001b[0m\n\u001b[1;32m    610\u001b[0m     \u001b[0;32mdef\u001b[0m \u001b[0mget_read_available\u001b[0m\u001b[0;34m(\u001b[0m\u001b[0mself\u001b[0m\u001b[0;34m)\u001b[0m\u001b[0;34m:\u001b[0m\u001b[0;34m\u001b[0m\u001b[0m\n",
      "\u001b[0;31mKeyboardInterrupt\u001b[0m: "
     ]
    }
   ],
   "source": [
    "with mic as source:\n",
    "    rec.adjust_for_ambient_noise(source)\n",
    "    \n",
    "dicio = dict()\n",
    "\n",
    "frase = frases[3]\n",
    "\n",
    "listen_audio(frase, mic, rec, 10, ambientes[0], filesave=False)"
   ]
  },
  {
   "cell_type": "markdown",
   "metadata": {},
   "source": [
    "Descrição da subrotina que fará LiveSpeech e comparará com as estruturas existentes. O que possivelmente estaria rodando no **ROS**"
   ]
  },
  {
   "cell_type": "code",
   "execution_count": null,
   "metadata": {},
   "outputs": [],
   "source": [
    "while True:\n",
    "    with mic as source:\n",
    "        audio = rec.listen(source)\n",
    "        print('Via google API (online): %s' % rec.recognize_google(audio))\n",
    "        print('Via sphinx (offline):    %s' % rec.recognize_sphinx(audio))\n",
    "        break"
   ]
  },
  {
   "cell_type": "markdown",
   "metadata": {},
   "source": [
    "Descrição de um método de comparação"
   ]
  },
  {
   "cell_type": "code",
   "execution_count": null,
   "metadata": {},
   "outputs": [],
   "source": [
    "def compare_two_audios(audio1, audio2):\n",
    "    pass\n",
    "\n",
    "def compare_audio_to_audio_list(audio, audio_list):\n",
    "    '''Return the number of audios in audio_list who matches'''\n",
    "    count = 0\n",
    "    for audio2 in audio_list:\n",
    "        count += compare_two_audios(audio, audio2)\n",
    "    return count\n",
    "\n",
    "while True:\n",
    "    with mic as source:\n",
    "        audio = rec.listen(source)\n",
    "        print('Numero de matches: ')\n",
    "        print('%s | %d' % (frases[0], compare_audio_to_audio_list(audio, dicio[frases[0]])))\n",
    "        print('%s | %d' % (frases[1], compare_audio_to_audio_list(audio, dicio[frases[1]])))\n",
    "        print('%s | %d' % (frases[2], compare_audio_to_audio_list(audio, dicio[frases[2]])))\n",
    "        print('%s | %d' % (frases[3], compare_audio_to_audio_list(audio, dicio[frases[3]])))\n",
    "        break"
   ]
  },
  {
   "cell_type": "code",
   "execution_count": null,
   "metadata": {},
   "outputs": [],
   "source": [
    "pickle.dump?"
   ]
  },
  {
   "cell_type": "markdown",
   "metadata": {},
   "source": [
    "Ambiente 1\n",
    "\n",
    "Fale go to the bedroom:\n",
    "Versão de go to the bedroom numero 1.\n",
    "listen OK\n",
    "Via google API (online): go to the bathroom\n",
    "Via sphinx (offline):    cool to the bedroom\n",
    "Versão de go to the bedroom numero 2.\n",
    "listen OK\n",
    "Via google API (online): go to the bathroom\n",
    "Via sphinx (offline):    cool to the bedroom and\n",
    "Versão de go to the bedroom numero 3.\n",
    "listen OK\n",
    "Via google API (online): go to the bedroom\n",
    "Via sphinx (offline):    cool to the bedroom\n",
    "Versão de go to the bedroom numero 4.\n",
    "listen OK\n",
    "Via google API (online): go to the bathroom\n",
    "Via sphinx (offline):    go to the bedroom\n",
    "Versão de go to the bedroom numero 5.\n",
    "listen OK\n",
    "Via google API (online): go to the bathroom\n",
    "Via sphinx (offline):    cool to the bed ruin\n",
    "\n",
    "######################################################\n",
    "\n",
    "Fale go to the bathroom:\n",
    "Versão de go to the bathroom numero 1.\n",
    "listen OK\n",
    "Via google API (online): go to the bathroom\n",
    "Via sphinx (offline):    go to the f. room\n",
    "Versão de go to the bathroom numero 2.\n",
    "listen OK\n",
    "Via google API (online): go to the bathroom\n",
    "Via sphinx (offline):    go to the bathroom\n",
    "Versão de go to the bathroom numero 3.\n",
    "listen OK\n",
    "Via google API (online): go to the bathroom\n",
    "Via sphinx (offline):    pulled to the bathroom\n",
    "Versão de go to the bathroom numero 4.\n",
    "listen OK\n",
    "Via google API (online): go to the bathroom\n",
    "Via sphinx (offline):    go to the bathroom\n",
    "Versão de go to the bathroom numero 5.\n",
    "listen OK\n",
    "Via google API (online): go to the bathroom\n",
    "Via sphinx (offline):    the the the bathroom\n",
    "\n",
    "#####################################################\n",
    "\n",
    "Fale go to the living room:\n",
    "Versão de go to the living room numero 1.\n",
    "listen OK\n",
    "Via google API (online): go to the living room\n",
    "Via sphinx (offline):    called in to it\n",
    "Versão de go to the living room numero 2.\n",
    "listen OK\n",
    "Via google API (online): go to the living room\n",
    "Via sphinx (offline):    will to the veteran\n",
    "Versão de go to the living room numero 3.\n",
    "listen OK\n",
    "Via google API (online): go to the living room\n",
    "Via sphinx (offline):    hold the pen era\n",
    "Versão de go to the living room numero 4.\n",
    "listen OK\n",
    "Via google API (online): go to the living room\n",
    "Via sphinx (offline):    gold with a veteran\n",
    "Versão de go to the living room numero 5.\n",
    "listen OK\n",
    "Via google API (online): go to the living room\n",
    "Via sphinx (offline):    oh to deliver it\n",
    "\n",
    "#####################################################\n",
    "\n",
    "Fale go to the kitchen:\n",
    "Versão de go to the kitchen numero 1.\n",
    "listen OK\n",
    "Via google API (online): go to the kitchen\n",
    "Via sphinx (offline):    hold the key to it\n",
    "Versão de go to the kitchen numero 2.\n",
    "listen OK\n",
    "Via google API (online): go to the kitchen\n",
    "Via sphinx (offline):    well to the kitchen\n",
    "Versão de go to the kitchen numero 3.\n",
    "listen OK\n",
    "Via google API (online): go to the kitchen\n",
    "Via sphinx (offline):    want to be deemed too\n",
    "Versão de go to the kitchen numero 4.\n",
    "listen OK\n",
    "Via google API (online): go to the kitchen\n",
    "Via sphinx (offline):    hold that teacher\n",
    "Versão de go to the kitchen numero 5.\n",
    "listen OK\n",
    "Via google API (online): go to the kitchen\n",
    "Via sphinx (offline):    oh to the theater"
   ]
  },
  {
   "cell_type": "code",
   "execution_count": null,
   "metadata": {},
   "outputs": [],
   "source": []
  }
 ],
 "metadata": {
  "kernelspec": {
   "display_name": "Python 3",
   "language": "python",
   "name": "python3"
  },
  "language_info": {
   "codemirror_mode": {
    "name": "ipython",
    "version": 3
   },
   "file_extension": ".py",
   "mimetype": "text/x-python",
   "name": "python",
   "nbconvert_exporter": "python",
   "pygments_lexer": "ipython3",
   "version": "3.6.5"
  }
 },
 "nbformat": 4,
 "nbformat_minor": 2
}
