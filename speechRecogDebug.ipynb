{
 "cells": [
  {
   "cell_type": "code",
   "execution_count": null,
   "metadata": {},
   "outputs": [],
   "source": [
    "# http://pythonforengineers.com/audio-and-digital-signal-processingdsp-in-python/# "
   ]
  },
  {
   "cell_type": "markdown",
   "metadata": {},
   "source": [
    "Test from Gettins Started"
   ]
  },
  {
   "cell_type": "code",
   "execution_count": 8,
   "metadata": {},
   "outputs": [
    {
     "ename": "ImportError",
     "evalue": "cannot import name '_ad_win32' from 'pocketsphinx' (c:\\users\\tiarl\\appdata\\local\\programs\\python\\python37-32\\lib\\site-packages\\pocketsphinx\\__init__.py)",
     "output_type": "error",
     "traceback": [
      "\u001b[1;31m---------------------------------------------------------------------------\u001b[0m",
      "\u001b[1;31mImportError\u001b[0m                               Traceback (most recent call last)",
      "\u001b[1;32m<ipython-input-8-67130e1ec8ad>\u001b[0m in \u001b[0;36m<module>\u001b[1;34m()\u001b[0m\n\u001b[0;32m      1\u001b[0m \u001b[1;32mfrom\u001b[0m \u001b[0mpocketsphinx\u001b[0m \u001b[1;32mimport\u001b[0m \u001b[0mLiveSpeech\u001b[0m\u001b[1;33m\u001b[0m\u001b[0m\n\u001b[0;32m      2\u001b[0m \u001b[1;32mimport\u001b[0m \u001b[0mpocketsphinx\u001b[0m\u001b[1;33m\u001b[0m\u001b[0m\n\u001b[1;32m----> 3\u001b[1;33m \u001b[1;32mfrom\u001b[0m \u001b[0mpocketsphinx\u001b[0m \u001b[1;32mimport\u001b[0m \u001b[0m_ad_win32\u001b[0m\u001b[1;33m\u001b[0m\u001b[0m\n\u001b[0m",
      "\u001b[1;31mImportError\u001b[0m: cannot import name '_ad_win32' from 'pocketsphinx' (c:\\users\\tiarl\\appdata\\local\\programs\\python\\python37-32\\lib\\site-packages\\pocketsphinx\\__init__.py)"
     ]
    }
   ],
   "source": [
    "from pocketsphinx import LiveSpeech\n",
    "import pocketsphinx\n",
    "from pocketsphinx import _ad_win32"
   ]
  },
  {
   "cell_type": "code",
   "execution_count": 33,
   "metadata": {},
   "outputs": [
    {
     "ename": "TypeError",
     "evalue": "in method 'Ad_readinto', argument 2 of type '(char *DATA, size_t SIZE)'",
     "output_type": "error",
     "traceback": [
      "\u001b[1;31m---------------------------------------------------------------------------\u001b[0m",
      "\u001b[1;31mTypeError\u001b[0m                                 Traceback (most recent call last)",
      "\u001b[1;32m<ipython-input-33-d671c2ac4b3e>\u001b[0m in \u001b[0;36m<module>\u001b[1;34m()\u001b[0m\n\u001b[0;32m      1\u001b[0m \u001b[0mSTR\u001b[0m \u001b[1;33m=\u001b[0m \u001b[1;34m''\u001b[0m\u001b[1;33m\u001b[0m\u001b[0m\n\u001b[0;32m      2\u001b[0m \u001b[0mbambam\u001b[0m \u001b[1;33m=\u001b[0m \u001b[0mLiveSpeech\u001b[0m\u001b[1;33m(\u001b[0m\u001b[1;33m)\u001b[0m\u001b[1;33m\u001b[0m\u001b[0m\n\u001b[1;32m----> 3\u001b[1;33m \u001b[0mbambam\u001b[0m\u001b[1;33m.\u001b[0m\u001b[0mad\u001b[0m\u001b[1;33m.\u001b[0m\u001b[0mreadinto\u001b[0m\u001b[1;33m(\u001b[0m\u001b[0mSTR\u001b[0m\u001b[1;33m)\u001b[0m\u001b[1;33m\u001b[0m\u001b[0m\n\u001b[0m",
      "\u001b[1;32mc:\\users\\tiarl\\appdata\\local\\programs\\python\\python37-32\\lib\\site-packages\\sphinxbase\\ad_win32.py\u001b[0m in \u001b[0;36mreadinto\u001b[1;34m(self, DATA)\u001b[0m\n\u001b[0;32m    150\u001b[0m     \u001b[1;32mdef\u001b[0m \u001b[0mreadinto\u001b[0m\u001b[1;33m(\u001b[0m\u001b[0mself\u001b[0m\u001b[1;33m,\u001b[0m \u001b[0mDATA\u001b[0m\u001b[1;33m)\u001b[0m\u001b[1;33m:\u001b[0m\u001b[1;33m\u001b[0m\u001b[0m\n\u001b[0;32m    151\u001b[0m         \u001b[1;34m\"\"\"readinto(Ad self, char * DATA) -> int\"\"\"\u001b[0m\u001b[1;33m\u001b[0m\u001b[0m\n\u001b[1;32m--> 152\u001b[1;33m         \u001b[1;32mreturn\u001b[0m \u001b[0m_ad_win32\u001b[0m\u001b[1;33m.\u001b[0m\u001b[0mAd_readinto\u001b[0m\u001b[1;33m(\u001b[0m\u001b[0mself\u001b[0m\u001b[1;33m,\u001b[0m \u001b[0mDATA\u001b[0m\u001b[1;33m)\u001b[0m\u001b[1;33m\u001b[0m\u001b[0m\n\u001b[0m\u001b[0;32m    153\u001b[0m \u001b[1;33m\u001b[0m\u001b[0m\n\u001b[0;32m    154\u001b[0m \u001b[0mAd_swigregister\u001b[0m \u001b[1;33m=\u001b[0m \u001b[0m_ad_win32\u001b[0m\u001b[1;33m.\u001b[0m\u001b[0mAd_swigregister\u001b[0m\u001b[1;33m\u001b[0m\u001b[0m\n",
      "\u001b[1;31mTypeError\u001b[0m: in method 'Ad_readinto', argument 2 of type '(char *DATA, size_t SIZE)'"
     ]
    }
   ],
   "source": [
    "STR = ''\n",
    "bambam = LiveSpeech()\n",
    "bambam.ad.readinto(STR)"
   ]
  },
  {
   "cell_type": "code",
   "execution_count": 28,
   "metadata": {},
   "outputs": [
    {
     "data": {
      "text/plain": [
       "0"
      ]
     },
     "execution_count": 28,
     "metadata": {},
     "output_type": "execute_result"
    }
   ],
   "source": [
    "bambam.ad.stop_recording()"
   ]
  },
  {
   "cell_type": "code",
   "execution_count": 15,
   "metadata": {},
   "outputs": [],
   "source": [
    "import os\n",
    "import sys\n",
    "import sphinxbase as sp"
   ]
  },
  {
   "cell_type": "code",
   "execution_count": 22,
   "metadata": {},
   "outputs": [],
   "source": []
  },
  {
   "cell_type": "code",
   "execution_count": 17,
   "metadata": {},
   "outputs": [],
   "source": [
    "ad = pocketsphinx.Ad()\n",
    "ad.__init__??\n"
   ]
  },
  {
   "cell_type": "code",
   "execution_count": 16,
   "metadata": {},
   "outputs": [
    {
     "data": {
      "text/plain": [
       "sphinxbase.ad_win32.Ad"
      ]
     },
     "execution_count": 16,
     "metadata": {},
     "output_type": "execute_result"
    }
   ],
   "source": [
    "pocketsphinx.Ad.start_recording?"
   ]
  },
  {
   "cell_type": "markdown",
   "metadata": {},
   "source": [
    "Taura's code"
   ]
  },
  {
   "cell_type": "code",
   "execution_count": null,
   "metadata": {},
   "outputs": [],
   "source": [
    "import os\n",
    "from pocketsphinx import LiveSpeech, get_model_path"
   ]
  },
  {
   "cell_type": "code",
   "execution_count": null,
   "metadata": {},
   "outputs": [],
   "source": [
    "model_path = get_model_path()"
   ]
  },
  {
   "cell_type": "code",
   "execution_count": null,
   "metadata": {},
   "outputs": [],
   "source": [
    "#for phrase in LiveSpeech(lm=False, keyphrase='right'):\n",
    " #   print(phrase.segments(detailed=False))\n",
    "\n",
    "#se for a string ok dimitri, entra no for e printa ok dimitri\n",
    "'''for phrase in speech:\n",
    "    #int(phrase.segments(detailed=True))\n",
    "    escutando = True\n",
    "    print(phrase)\n",
    "'''"
   ]
  },
  {
   "cell_type": "code",
   "execution_count": null,
   "metadata": {},
   "outputs": [],
   "source": [
    "for phrase in LiveSpeech(\n",
    "    verbose=False,\n",
    "    sampling_rate=16000,\n",
    "    buffer_size=2048,\n",
    "    no_search=False,\n",
    "    full_utt=False,\n",
    "    hmm=os.path.join(model_path, 'en-us'),\n",
    "    lm=os.path.join(model_path, '6472.lm'),\n",
    "    dic=os.path.join(model_path, '6472.dic'),\n",
    "    kws_threshold=1e-45\n",
    "):\n",
    "    \n",
    "    print(phrase)\n",
    "            \n",
    "    if(str(phrase) == \"DIMITRI\"):\n",
    "        print(\"\\nDiga: \")   \n",
    "        for phrase in LiveSpeech(\n",
    "            verbose=False,\n",
    "            sampling_rate=16000,\n",
    "            buffer_size=2048,\n",
    "            no_search=False,\n",
    "            full_utt=False,\n",
    "            hmm=os.path.join(model_path, 'en-us'),\n",
    "            lm=os.path.join(model_path, '6472.lm'),\n",
    "            dic=os.path.join(model_path, '6472.dic'),\n",
    "            kws_threshold=1e-15\n",
    "        ): \n",
    "            print(phrase)\n",
    "            phrase = str(phrase)\n",
    "            if(phrase == \"GO TO THE KITCHEN\"):\n",
    "                print(\"Estou indo para cozinha\")\n",
    "                break"
   ]
  },
  {
   "cell_type": "markdown",
   "metadata": {},
   "source": [
    "Da página [GitHub](https://gist.github.com/1Rayzer/3573daf1f76343c915bbab108b4f8ccc)"
   ]
  },
  {
   "cell_type": "code",
   "execution_count": null,
   "metadata": {},
   "outputs": [],
   "source": [
    "import speech_recognition as sr #importamos o modúlo\n",
    "\n",
    "rec = sr.Recognizer() #instanciamos o modúlo do reconhecedor\n",
    "\n",
    "with sr.Microphone() as fala: #chamos a gravação do microphone de fala\n",
    "\tfrase = rec.listen(fala) #o metodo listen vai ouvir o que a gente falar e gravar na variavel frase\n",
    "\n",
    "print(rec.recognize_google(frase, language='pt')) #transformando nossa fala em texto\n",
    "\n",
    "\n",
    "#TRANSFORMANDO TEXTO EM FALA\n",
    "import pyttsx # importamos o modúlo\n",
    "en = pyttsx.init() # meotodo init seleciona um ending de sintetização, no caso o espeak\n",
    "en.say(\"Hello, I am Ronan\") # o metodo say para dizer o que queremos\n",
    "en.say(Nice to meet you) \n",
    "en.runAndWait() # para ouvir o que foi escrito\n",
    "en.setProperty('voice', b'brazil') # mudamos a propriedade setando pelo id para pt-br, o lemento b diz que a string está em bytes\n",
    "en.say('Olá, tudo bem?')\n",
    "en.runAndWait()\n",
    "\n",
    "#TRANSFORMANDO TEXTO EM FALA - USANDO API DO GOOGLE\n",
    "from gtts import gTTS # importamos o modúlo gTTS\n",
    "voz = gTTS(\"Olá, tudo bem?\", lang =\"pt\") # guardamos o nosso texto na variavel voz\n",
    "voz.save(\"voz.mp3\") #salvamos com o comando save em mp3\n",
    "\n",
    "import subprocess as s #importamos o subprocess e renomeamos a s\n",
    "s.call(['MPC-HC', 'voz.mp3']) #com o comando call roda nosso comando de voz no player escolhido."
   ]
  },
  {
   "cell_type": "code",
   "execution_count": null,
   "metadata": {},
   "outputs": [],
   "source": []
  },
  {
   "cell_type": "code",
   "execution_count": null,
   "metadata": {},
   "outputs": [],
   "source": []
  }
 ],
 "metadata": {
  "kernelspec": {
   "display_name": "Python 3",
   "language": "python",
   "name": "python3"
  },
  "language_info": {
   "codemirror_mode": {
    "name": "ipython",
    "version": 3
   },
   "file_extension": ".py",
   "mimetype": "text/x-python",
   "name": "python",
   "nbconvert_exporter": "python",
   "pygments_lexer": "ipython3",
   "version": "3.7.0"
  }
 },
 "nbformat": 4,
 "nbformat_minor": 2
}
