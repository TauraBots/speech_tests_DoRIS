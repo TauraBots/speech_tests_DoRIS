{
 "cells": [
  {
   "cell_type": "code",
   "execution_count": 31,
   "metadata": {},
   "outputs": [],
   "source": [
    "from gtts import gTTS\n",
    "import os\n",
    "from pydub import AudioSegment\n",
    "import glob"
   ]
  },
  {
   "cell_type": "code",
   "execution_count": 36,
   "metadata": {},
   "outputs": [],
   "source": [
    "frases = ['go to the kitchen',\n",
    "          'go to the bathroom',\n",
    "          'go to the bedroom',\n",
    "          'go to the living room',\n",
    "         \n",
    "          'get the chips',\n",
    "          'get the cereal box',\n",
    "          'get the bottle of water',\n",
    "          \n",
    "          'did you say kitchen?',\n",
    "          'did you say bedroom?',\n",
    "          'did you say bathroom?',\n",
    "          'did you say room?',\n",
    "         \n",
    "          'ok, I am going!',\n",
    "          'hey doris']\n",
    "\n",
    "for frase in frases:\n",
    "    tts = gTTS(text=frase, lang='en')\n",
    "    tts.save(r'/home/tiarles/Área de Trabalho/test_gTTS/'+frase.lower().replace(' ', '_').replace('?', '')+'.mp3')"
   ]
  },
  {
   "cell_type": "code",
   "execution_count": 33,
   "metadata": {},
   "outputs": [
    {
     "data": {
      "text/plain": [
       "['Área de Trabalho/test_gTTS/you_saw_bedroom.mp3',\n",
       " 'Área de Trabalho/test_gTTS/go_to_the_living_room.mp3',\n",
       " 'Área de Trabalho/test_gTTS/catch_a_cereal_box.mp3',\n",
       " 'Área de Trabalho/test_gTTS/ok,_i_am_going!.mp3',\n",
       " 'Área de Trabalho/test_gTTS/you_saw_kitchen.mp3',\n",
       " 'Área de Trabalho/test_gTTS/go_to_the_kitchen.mp3',\n",
       " 'Área de Trabalho/test_gTTS/go_to_the_bedroom.mp3',\n",
       " 'Área de Trabalho/test_gTTS/you_saw_bathroom.mp3',\n",
       " 'Área de Trabalho/test_gTTS/you_saw_living_room.mp3',\n",
       " 'Área de Trabalho/test_gTTS/catch_some_chips.mp3',\n",
       " 'Área de Trabalho/test_gTTS/go_to_the_bathroom.mp3']"
      ]
     },
     "execution_count": 33,
     "metadata": {},
     "output_type": "execute_result"
    }
   ],
   "source": [
    "filenames = glob.glob(r'Área de Trabalho/test_gTTS/*mp3')\n",
    "filenames"
   ]
  },
  {
   "cell_type": "code",
   "execution_count": 37,
   "metadata": {},
   "outputs": [],
   "source": [
    "for filename in filenames:\n",
    "    segment = AudioSegment.from_mp3(filename)\n",
    "    segment.export(filename.replace('.mp3', '.wav'), format='wav')"
   ]
  },
  {
   "cell_type": "code",
   "execution_count": null,
   "metadata": {
    "scrolled": true
   },
   "outputs": [],
   "source": []
  },
  {
   "cell_type": "code",
   "execution_count": null,
   "metadata": {},
   "outputs": [],
   "source": []
  },
  {
   "cell_type": "code",
   "execution_count": 28,
   "metadata": {},
   "outputs": [],
   "source": []
  },
  {
   "cell_type": "code",
   "execution_count": null,
   "metadata": {},
   "outputs": [],
   "source": []
  },
  {
   "cell_type": "code",
   "execution_count": null,
   "metadata": {},
   "outputs": [],
   "source": []
  }
 ],
 "metadata": {
  "kernelspec": {
   "display_name": "Python 3",
   "language": "python",
   "name": "python3"
  },
  "language_info": {
   "codemirror_mode": {
    "name": "ipython",
    "version": 3
   },
   "file_extension": ".py",
   "mimetype": "text/x-python",
   "name": "python",
   "nbconvert_exporter": "python",
   "pygments_lexer": "ipython3",
   "version": "3.6.5"
  }
 },
 "nbformat": 4,
 "nbformat_minor": 2
}
